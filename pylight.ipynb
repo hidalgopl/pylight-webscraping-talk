{
 "cells": [
  {
   "cell_type": "markdown",
   "metadata": {
    "slideshow": {
     "slide_type": "slide"
    }
   },
   "source": [
    "<h1 align=\"center\">Webscraping - a po co to komu?</h1>\n",
    "\n",
    "<h3 align=\"center\">Paweł Bojanowski</h3>\n",
    "<img src=\"pylight.png\" align=\"center\" width=\"15%\"/>"
   ]
  },
  {
   "cell_type": "markdown",
   "metadata": {
    "slideshow": {
     "slide_type": "slide"
    }
   },
   "source": [
    "<h3>Paweł Bojanowski</h3>\n",
    "<img src=\"saucebot.jpg\" width=\"30%\" align=\"right\"/>\n",
    "\n",
    " * skończyłem geoinformatykę na Uniwersytecie Warszawskim\n",
    " \n",
    " * 2 lata pracowałem jako Web Backend Dev\n",
    " \n",
    " * akutalnie Sauce Labs (chmury, mikroserwisy, czarna magia)\n",
    "\n"
   ]
  },
  {
   "cell_type": "markdown",
   "metadata": {
    "slideshow": {
     "slide_type": "slide"
    }
   },
   "source": [
    "<h2 align=\"center\"> Czym jest web scraping?</h2>\n",
    "Web scraping jest techiniką automatycznej ekstracji danych ze stron internetowych."
   ]
  },
  {
   "cell_type": "markdown",
   "metadata": {
    "slideshow": {
     "slide_type": "slide"
    }
   },
   "source": [
    "<img src=\"codingbot.gif\" align=\"center\"/>"
   ]
  },
  {
   "cell_type": "markdown",
   "metadata": {
    "slideshow": {
     "slide_type": "slide"
    }
   },
   "source": [
    "# Webscraping - useful libraries\n",
    "\n",
    "* [Requests](https://2.python-requests.org//pl/latest/) <- to get HTML page source\n",
    "* [BeautifulSoup4](https://www.crummy.com/software/BeautifulSoup/bs4/doc) <- to parse HTML page source\n",
    "* [Selenium](https://selenium-python.readthedocs.io/) <- to interact with browser\n",
    "* [Requests-HTML](http://html.python-requests.org/) <- Requests + BeautifulSoup in pythonic way"
   ]
  },
  {
   "cell_type": "markdown",
   "metadata": {
    "slideshow": {
     "slide_type": "slide"
    }
   },
   "source": [
    "<img src=\"pylight-website.png\" align=\"center\"/>"
   ]
  },
  {
   "cell_type": "code",
   "execution_count": 13,
   "metadata": {
    "slideshow": {
     "slide_type": "slide"
    }
   },
   "outputs": [],
   "source": [
    "from requests_html import HTMLSession\n",
    "\n",
    "\n",
    "def get_html(url=\"https://www.pylight.org\"):\n",
    "    session = HTMLSession()\n",
    "    response = session.get(url)\n",
    "    return response\n"
   ]
  },
  {
   "cell_type": "markdown",
   "metadata": {
    "slideshow": {
     "slide_type": "slide"
    }
   },
   "source": [
    "<img src=\"when.png\" align=\"center\"/>"
   ]
  },
  {
   "cell_type": "code",
   "execution_count": 14,
   "metadata": {
    "slideshow": {
     "slide_type": "slide"
    }
   },
   "outputs": [],
   "source": [
    "def check_date_and_address(response):\n",
    "    details = response.html.find(\".date-and-localization\", first=True)\n",
    "    return details.text"
   ]
  },
  {
   "cell_type": "markdown",
   "metadata": {
    "slideshow": {
     "slide_type": "slide"
    }
   },
   "source": [
    "<img src=\"talk.png\" align=\"center\"/>"
   ]
  },
  {
   "cell_type": "code",
   "execution_count": 10,
   "metadata": {
    "slideshow": {
     "slide_type": "slide"
    }
   },
   "outputs": [],
   "source": [
    "def get_talks(response):\n",
    "    talks = response.html.find('.talk-title')\n",
    "    authors = response.html.find('.talk-speaker')\n",
    "    return authors, talks"
   ]
  },
  {
   "cell_type": "code",
   "execution_count": 11,
   "metadata": {
    "slideshow": {
     "slide_type": "slide"
    }
   },
   "outputs": [],
   "source": [
    "def format_output(authors, talks):\n",
    "    # Expected output format:\n",
    "    # Speaker: Talk topic\n",
    "    talks = \"\\n\".join(\n",
    "        [\n",
    "            \"{}: {}\".format(author.text, talk.text)\n",
    "            for author, talk in zip(authors, talks)\n",
    "        ]\n",
    "    )\n",
    "    return talks"
   ]
  },
  {
   "cell_type": "code",
   "execution_count": 15,
   "metadata": {
    "slideshow": {
     "slide_type": "slide"
    }
   },
   "outputs": [
    {
     "name": "stdout",
     "output_type": "stream",
     "text": [
      "Wtorek, 21.05.2019, godz. 18:30\n",
      "Sumo Logic, al. Solidarności 173, budynek C, piętro 6\n",
      "» WIĘCEJ INFORMACJI\n",
      "Joanna Tustanowska: Jak nie tracić głowy, gdy (nasz) kod NIE DZIAŁA 🔥🔥🐛\n",
      "Radosław Bartosiński: Budowa aplikacji serverless z użyciem Pythona i Amazon Web Services\n"
     ]
    }
   ],
   "source": [
    "if __name__ == \"__main__\":\n",
    "    response = get_html()\n",
    "    authors, talks = get_talks(response)\n",
    "    meetup_details = check_date_and_address(response)\n",
    "    meetup_description = format_output(authors, talks)\n",
    "    print(meetup_details)\n",
    "    print(meetup_description)"
   ]
  },
  {
   "cell_type": "markdown",
   "metadata": {
    "slideshow": {
     "slide_type": "slide"
    }
   },
   "source": [
    "<h3> Gimme moar</h3>\n",
    "\n"
   ]
  },
  {
   "cell_type": "code",
   "execution_count": null,
   "metadata": {},
   "outputs": [],
   "source": []
  }
 ],
 "metadata": {
  "celltoolbar": "Slideshow",
  "kernelspec": {
   "display_name": "Python 3",
   "language": "python",
   "name": "python3"
  },
  "language_info": {
   "codemirror_mode": {
    "name": "ipython",
    "version": 3
   },
   "file_extension": ".py",
   "mimetype": "text/x-python",
   "name": "python",
   "nbconvert_exporter": "python",
   "pygments_lexer": "ipython3",
   "version": "3.6.7"
  }
 },
 "nbformat": 4,
 "nbformat_minor": 2
}
